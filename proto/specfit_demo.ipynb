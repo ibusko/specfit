{
 "cells": [
  {
   "cell_type": "markdown",
   "metadata": {},
   "source": [
    "<h1>Data input</h1>\n",
    "\n",
    "Begin by importing the help functions in the 'proto' package:"
   ]
  },
  {
   "cell_type": "code",
   "execution_count": 1,
   "metadata": {
    "collapsed": true
   },
   "outputs": [],
   "source": [
    "import fit_functions"
   ]
  },
  {
   "cell_type": "markdown",
   "metadata": {},
   "source": [
    "Define data files: \n",
    " - spectrum: simple 3-column ASCII file\n",
    " - wavelength regions to be ignored by fit: simple 2-column ASCII file\n",
    " - model to be fitted: ASCII file in specfit's IRAF database format."
   ]
  },
  {
   "cell_type": "code",
   "execution_count": 2,
   "metadata": {
    "collapsed": true
   },
   "outputs": [],
   "source": [
    "datafile = \"../data/n5548/n5548_mean_g130mb4.asc\"\n",
    "regionsfile = \"../data/n5548/n5548_lyalpha_sample.dat\"\n",
    "modelfile = \"../data/n5548/sfn5548_lyalpha_all_first.dat\""
   ]
  },
  {
   "cell_type": "markdown",
   "metadata": {},
   "source": [
    "Read spectrum and regions files. \n",
    "\n",
    "Spectrum is returned as an object that encapsulates wavelength, flux, and error arrays. \n",
    "\n",
    "Mask is a float numpy array with 1's for good data points and 0's for ignored data points."
   ]
  },
  {
   "cell_type": "code",
   "execution_count": 3,
   "metadata": {
    "collapsed": false
   },
   "outputs": [],
   "source": [
    "spectrum, mask = fit_functions.read_file(datafile, regions=regionsfile)"
   ]
  },
  {
   "cell_type": "markdown",
   "metadata": {},
   "source": [
    "Read model:"
   ]
  },
  {
   "cell_type": "code",
   "execution_count": 4,
   "metadata": {
    "collapsed": false
   },
   "outputs": [],
   "source": [
    "model = fit_functions.read_model(modelfile)"
   ]
  },
  {
   "cell_type": "markdown",
   "metadata": {},
   "source": [
    "Model is a list of functions defined in astropy.modeling.models. "
   ]
  },
  {
   "cell_type": "code",
   "execution_count": 5,
   "metadata": {
    "collapsed": false,
    "scrolled": true
   },
   "outputs": [
    {
     "name": "stdout",
     "output_type": "stream",
     "text": [
      "[<powerlaw(amplitude=5.5862e-14, x_0=1000.0, alpha=0.3819233)>, <gaussian(norm=2e-14, mean=1195.006, fwhm=861.4926, skew=1.0)>, <gaussian(norm=1.438015e-14, mean=1226.392, fwhm=861.4926, skew=1.0)>, <gaussian(norm=2.02e-13, mean=1236.729, fwhm=255.4998, skew=1.0)>, <gaussian(norm=5.474183e-13, mean=1235.996, fwhm=861.4926, skew=1.0)>, <gaussian(norm=1.948799e-12, mean=1235.138, fwhm=3040.59, skew=1.0)>, <gaussian(norm=3.156964e-12, mean=1231.589, fwhm=8133.099, skew=1.0)>, <gaussian(norm=1.536853e-12, mean=1237.643, fwhm=18183.71, skew=1.0)>, <gaussian(norm=1.217935e-14, mean=1259.753, fwhm=255.4998, skew=1.0)>, <gaussian(norm=1.217935e-14, mean=1263.803, fwhm=255.4998, skew=1.0)>, <gaussian(norm=6.219548e-15, mean=1259.533, fwhm=861.4926, skew=1.0)>, <gaussian(norm=6.219548e-15, mean=1263.582, fwhm=861.4926, skew=1.0)>, <gaussian(norm=2.221692e-13, mean=1258.659, fwhm=3040.59, skew=1.0)>, <gaussian(norm=2.221692e-13, mean=1262.705, fwhm=3040.59, skew=1.0)>, <gaussian(norm=1.185217e-13, mean=1255.042, fwhm=8133.099, skew=1.0)>, <gaussian(norm=1.185217e-13, mean=1259.077, fwhm=8133.099, skew=1.0)>, <gaussian(norm=1.287816e-13, mean=1263.24, fwhm=18183.71, skew=1.0)>, <gaussian(norm=-1e-15, mean=1194.0, fwhm=3683.102, skew=0.1849483)>, <gaussian(norm=-7.349239e-13, mean=1235.0, fwhm=3683.102, skew=0.1849483)>, <gaussian(norm=-8.921041e-14, mean=1258.0, fwhm=3683.102, skew=0.1849483)>, <gaussian(norm=-8.921041e-14, mean=1262.044, fwhm=3683.102, skew=0.1849483)>]\n"
     ]
    }
   ],
   "source": [
    "print(model)"
   ]
  },
  {
   "cell_type": "markdown",
   "metadata": {},
   "source": [
    "<h1>Fitting</h1>\n",
    "\n",
    "So far, we have worked on having the data ingested into appropriate formats acceptable by the astropy fitting stuff.\n",
    "\n",
    "Now, to fit the multiple components in the model simultaneously, we have to build a compound model. An astropy compound model is just a combination of all the functions in the model, using as combination operators such things as additin, multiplication, and others.\n",
    "\n",
    "Example: \n",
    "\n",
    "<code>compound_model = models.PowerLaw1D(1.,1.) + models.Gaussian1D(1.,1.,1.)</code>\n",
    "\n",
    "will create an instance of a compound model with two components.\n",
    "\n",
    "We build our component model by calling a function in the fit_functions module that will just add together all the functions in the input list:"
   ]
  },
  {
   "cell_type": "code",
   "execution_count": 6,
   "metadata": {
    "collapsed": true
   },
   "outputs": [],
   "source": [
    "compound_model = fit_functions.compoundModel(model)"
   ]
  },
  {
   "cell_type": "code",
   "execution_count": 7,
   "metadata": {
    "collapsed": false
   },
   "outputs": [
    {
     "name": "stdout",
     "output_type": "stream",
     "text": [
      "Model: CompoundModel19\n",
      "Inputs: (u'x',)\n",
      "Outputs: (u'y',)\n",
      "Model set size: 1\n",
      "Parameters:\n",
      "    amplitude_0 x_0_0   alpha_0  norm_1 ... mean_20  fwhm_20   skew_20 \n",
      "    ----------- ------ --------- ------ ... -------- -------- ---------\n",
      "     5.5862e-14 1000.0 0.3819233  2e-14 ... 1262.044 3683.102 0.1849483\n"
     ]
    }
   ],
   "source": [
    "print(compound_model)"
   ]
  },
  {
   "cell_type": "markdown",
   "metadata": {},
   "source": [
    "\n",
    "\n",
    "\n",
    "The actual fitting then is a very simple operation. \n",
    "\n",
    "First, we instantiate a fitter engine:"
   ]
  },
  {
   "cell_type": "code",
   "execution_count": 8,
   "metadata": {
    "collapsed": false
   },
   "outputs": [],
   "source": [
    "import astropy.modeling.fitting as fitting"
   ]
  },
  {
   "cell_type": "code",
   "execution_count": 9,
   "metadata": {
    "collapsed": true
   },
   "outputs": [],
   "source": [
    "fitter = fitting.LevMarLSQFitter()"
   ]
  },
  {
   "cell_type": "markdown",
   "metadata": {},
   "source": [
    "In this example, we have errors for the data points, so we can use their inverse as weights for the fit:"
   ]
  },
  {
   "cell_type": "code",
   "execution_count": null,
   "metadata": {
    "collapsed": false
   },
   "outputs": [],
   "source": [
    "import numpy as np\n",
    "w = mask.copy()\n",
    "if len(spectrum.e.data) > 0:\n",
    "    w /= spectrum.e.data\n",
    "    max_w = np.max(w)\n",
    "    w /= max_w"
   ]
  },
  {
   "cell_type": "markdown",
   "metadata": {},
   "source": [
    "And rhe fit itself is made by just calling the fitter instance with the data, weights, and some control parameters if needed:"
   ]
  },
  {
   "cell_type": "code",
   "execution_count": null,
   "metadata": {
    "collapsed": false
   },
   "outputs": [],
   "source": [
    "fit_result = fitter(compound_model, spectrum.x.data, spectrum.y.data, weights=w, acc=1.E-7, maxiter=1000)"
   ]
  },
  {
   "cell_type": "code",
   "execution_count": null,
   "metadata": {
    "collapsed": false
   },
   "outputs": [],
   "source": [
    "print(fitter.fit_info['message'])"
   ]
  },
  {
   "cell_type": "markdown",
   "metadata": {},
   "source": [
    "The result is another instance of a compound model, with the fitted values set into the  parameter values:"
   ]
  },
  {
   "cell_type": "code",
   "execution_count": null,
   "metadata": {
    "collapsed": false
   },
   "outputs": [],
   "source": [
    "print(fit_result)"
   ]
  },
  {
   "cell_type": "code",
   "execution_count": null,
   "metadata": {
    "collapsed": false
   },
   "outputs": [],
   "source": [
    "fix = np.asarray(fit_result.fixed.values())\n",
    "n_free_par = sum(np.where(fix, 0, 1))\n",
    "chisq_in = fit_functions.chisq(spectrum.x.data, spectrum.y.data, spectrum.e.data, mask, compound_model, n_free_par)\n",
    "chisq_out = fit_functions.chisq(spectrum.x.data, spectrum.y.data, spectrum.e.data, mask, fit_result, n_free_par)\n",
    "print(\"chisq from input model:  %f\" % chisq_in)\n",
    "print(\"chisq from output model: %f\" % chisq_out)\n",
    "print(\"Total data points: %d\" % len(spectrum.x.data))\n",
    "print(\"Data points in wavelength ranges: %d\" % np.sum(mask))\n",
    "print(\"Number of free parameters: %d\" % n_free_par)\n",
    "print(\"Number of iterations: %d\" % fitter.fit_info['nfev'])\n"
   ]
  },
  {
   "cell_type": "markdown",
   "metadata": {},
   "source": [
    "<h1>Plots</h1>"
   ]
  },
  {
   "cell_type": "code",
   "execution_count": null,
   "metadata": {
    "collapsed": true
   },
   "outputs": [],
   "source": [
    "import matplotlib.pyplot as plt"
   ]
  },
  {
   "cell_type": "code",
   "execution_count": null,
   "metadata": {
    "collapsed": true
   },
   "outputs": [],
   "source": [
    "%matplotlib inline"
   ]
  },
  {
   "cell_type": "markdown",
   "metadata": {},
   "source": [
    "<h3>Input spectrum and mask</h3>"
   ]
  },
  {
   "cell_type": "code",
   "execution_count": null,
   "metadata": {
    "collapsed": false
   },
   "outputs": [],
   "source": [
    "plt.gcf().set_size_inches(15.,6.)\n",
    "plt.plot(spectrum.x.data, spectrum.y.data, 'b')\n",
    "plt.plot(spectrum.x.data, mask*3.E-13, 'g')"
   ]
  },
  {
   "cell_type": "markdown",
   "metadata": {},
   "source": [
    "<h3>Compound model used as starting guess for fit</h3>"
   ]
  },
  {
   "cell_type": "code",
   "execution_count": null,
   "metadata": {
    "collapsed": false
   },
   "outputs": [],
   "source": [
    "plt.gcf().set_size_inches(15.,6.)\n",
    "plt.plot(spectrum.x.data, compound_model(spectrum.x.data), 'r')"
   ]
  },
  {
   "cell_type": "markdown",
   "metadata": {},
   "source": [
    "<h3>Compound model produced by fit</h3>"
   ]
  },
  {
   "cell_type": "code",
   "execution_count": null,
   "metadata": {
    "collapsed": false
   },
   "outputs": [],
   "source": [
    "fitted_spectrum = fit_result(spectrum.x.data)"
   ]
  },
  {
   "cell_type": "code",
   "execution_count": null,
   "metadata": {
    "collapsed": false
   },
   "outputs": [],
   "source": [
    "plt.gcf().set_size_inches(15.,6.)\n",
    "plt.plot(spectrum.x.data, fitted_spectrum, 'r')"
   ]
  },
  {
   "cell_type": "markdown",
   "metadata": {},
   "source": [
    "<h3>Starting guess compound model overploted on input spectrum</h3>"
   ]
  },
  {
   "cell_type": "code",
   "execution_count": null,
   "metadata": {
    "collapsed": false
   },
   "outputs": [],
   "source": [
    "plt.gcf().set_size_inches(15.,6.)\n",
    "plt.ylim(0., 6.e-13)\n",
    "plt.plot(spectrum.x.data, spectrum.y.data, 'b')\n",
    "plt.plot(spectrum.x.data, compound_model(spectrum.x.data), 'r')\n",
    "plt.plot(spectrum.x.data, mask*8.E-14, 'g')"
   ]
  },
  {
   "cell_type": "markdown",
   "metadata": {},
   "source": [
    "<h3>Fit result overploted on input spectrum</h3>"
   ]
  },
  {
   "cell_type": "code",
   "execution_count": null,
   "metadata": {
    "collapsed": false
   },
   "outputs": [],
   "source": [
    "plt.gcf().set_size_inches(15.,6.)\n",
    "plt.ylim(0., 6.e-13)\n",
    "plt.plot(spectrum.x.data, spectrum.y.data, 'b')\n",
    "plt.plot(spectrum.x.data, fitted_spectrum, 'r')\n",
    "plt.plot(spectrum.x.data, mask*8.E-14, 'g')"
   ]
  },
  {
   "cell_type": "markdown",
   "metadata": {},
   "source": [
    "<h3>Residuals</h3>\n",
    "\n",
    "input spectrum - input model: plotted in yellow\n",
    "\n",
    "input spectrum - fitted model: plotted in blue"
   ]
  },
  {
   "cell_type": "code",
   "execution_count": null,
   "metadata": {
    "collapsed": false
   },
   "outputs": [],
   "source": [
    "residuals = spectrum.y.data - fitted_spectrum\n",
    "original_residuals = spectrum.y.data - compound_model(spectrum.x.data)"
   ]
  },
  {
   "cell_type": "code",
   "execution_count": null,
   "metadata": {
    "collapsed": false
   },
   "outputs": [],
   "source": [
    "plt.gcf().set_size_inches(15.,6.)\n",
    "plt.ylim(-2.e-13, 2.e-13)\n",
    "plt.plot([1100., 1400], [0., 0.], 'r')\n",
    "plt.plot(spectrum.x.data, residuals, 'b')\n",
    "plt.plot(spectrum.x.data, original_residuals, 'y')\n",
    "plt.plot(spectrum.x.data, (mask-0.5)*7.E-14, 'g')"
   ]
  },
  {
   "cell_type": "markdown",
   "metadata": {},
   "source": [
    "<h3>Detail of residuals plot</h3>"
   ]
  },
  {
   "cell_type": "code",
   "execution_count": null,
   "metadata": {
    "collapsed": false
   },
   "outputs": [],
   "source": [
    "plt.gcf().set_size_inches(15.,8.)\n",
    "plt.xlim(1185., 1270.)\n",
    "plt.ylim(-2.e-13, 0.7e-13)\n",
    "plt.plot([1185., 1270], [0., 0.], 'r')\n",
    "plt.plot(spectrum.x.data, residuals, 'b')\n",
    "plt.plot(spectrum.x.data, original_residuals, 'y')\n",
    "plt.plot(spectrum.x.data, (mask-0.5)*5.E-14, 'g')"
   ]
  },
  {
   "cell_type": "code",
   "execution_count": null,
   "metadata": {
    "collapsed": true
   },
   "outputs": [],
   "source": []
  }
 ],
 "metadata": {
  "kernelspec": {
   "display_name": "Python 2",
   "language": "python",
   "name": "python2"
  },
  "language_info": {
   "codemirror_mode": {
    "name": "ipython",
    "version": 2
   },
   "file_extension": ".py",
   "mimetype": "text/x-python",
   "name": "python",
   "nbconvert_exporter": "python",
   "pygments_lexer": "ipython2",
   "version": "2.7.9"
  }
 },
 "nbformat": 4,
 "nbformat_minor": 0
}
