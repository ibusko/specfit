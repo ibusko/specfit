{
 "cells": [
  {
   "cell_type": "markdown",
   "metadata": {},
   "source": [
    "<h1>Data input</h1>\n",
    "\n",
    "Begin by importing the help functions in the 'proto' package:"
   ]
  },
  {
   "cell_type": "code",
   "execution_count": 1,
   "metadata": {
    "collapsed": true
   },
   "outputs": [],
   "source": [
    "import fit_functions"
   ]
  },
  {
   "cell_type": "markdown",
   "metadata": {},
   "source": [
    "Define data files: \n",
    " - spectrum: simple 3-column ASCII file\n",
    " - wavelength regions to be ignored by fit: simple 2-column ASCII file\n",
    " - model to be fitted: ASCII file in specfit's IRAF database format."
   ]
  },
  {
   "cell_type": "code",
   "execution_count": 2,
   "metadata": {
    "collapsed": true
   },
   "outputs": [],
   "source": [
    "datafile = \"../data/n5548/n5548_mean_g130mb4.asc\"\n",
    "regionsfile = \"../data/n5548/n5548_lyalpha_sample.dat\"\n",
    "modelfile = \"../data/n5548/sfn5548_lyalpha_all_first.dat\""
   ]
  },
  {
   "cell_type": "markdown",
   "metadata": {},
   "source": [
    "Read spectrum and regions files. \n",
    "\n",
    "Spectrum is returned as an object that encapsulates wavelength, flux, and error arrays. \n",
    "\n",
    "Mask is a float numpy array with 1's for good data points and 0's for ignored data points."
   ]
  },
  {
   "cell_type": "code",
   "execution_count": 3,
   "metadata": {
    "collapsed": true
   },
   "outputs": [],
   "source": [
    "spectrum, mask = fit_functions.read_file(datafile, regions=regionsfile)"
   ]
  },
  {
   "cell_type": "markdown",
   "metadata": {},
   "source": [
    "Read model:"
   ]
  },
  {
   "cell_type": "code",
   "execution_count": 4,
   "metadata": {
    "collapsed": true
   },
   "outputs": [],
   "source": [
    "model = fit_functions.read_model(modelfile)"
   ]
  },
  {
   "cell_type": "markdown",
   "metadata": {},
   "source": [
    "Model is a list of functions defined in astropy.modeling.models. "
   ]
  },
  {
   "cell_type": "code",
   "execution_count": 5,
   "metadata": {
    "collapsed": false,
    "scrolled": true
   },
   "outputs": [
    {
     "name": "stdout",
     "output_type": "stream",
     "text": [
      "[<powerlaw(amplitude=5.5862e-14, x_0=1000.0, alpha=0.3819233)>, <gaussian(amplitude=5.470799789903966e-15, mean=1195.006, stddev=1.4582876921803867)>, <gaussian(amplitude=3.832878204362091e-15, mean=1226.392, stddev=1.4965886023906898)>, <gaussian(amplitude=1.8002330201750468e-13, mean=1236.729, stddev=0.44759650054727335)>, <gaussian(amplitude=1.447748614901618e-13, mean=1235.996, stddev=1.5083085393581195)>, <gaussian(amplitude=1.4612891678165536e-13, mean=1235.138, stddev=5.319795275438528)>, <gaussian(amplitude=8.875446949581156e-14, mean=1231.589, stddev=14.18872702134092)>, <gaussian(amplitude=1.9230780282067878e-14, mean=1237.643, stddev=31.87861608879444)>, <gaussian(amplitude=1.0655911583717979e-14, mean=1259.753, stddev=0.4559293380796675)>, <gaussian(amplitude=1.062176350691007e-14, mean=1263.803, stddev=0.45739511257611476)>, <gaussian(amplitude=1.6141362281095466e-15, mean=1259.533, stddev=1.5370311712200933)>, <gaussian(amplitude=1.6089639182890395e-15, mean=1263.582, stddev=1.5419722400227927)>, <gaussian(amplitude=1.6347839523000684e-14, mean=1258.659, stddev=5.421101287134055)>, <gaussian(amplitude=1.6295457249460898e-14, mean=1262.705, stddev=5.4385275922792475)>, <gaussian(amplitude=3.2698363438768374e-15, mean=1255.042, stddev=14.458921229661641)>, <gaussian(amplitude=3.2593574060139875e-15, mean=1259.077, stddev=14.505407121896074)>, <gaussian(amplitude=1.5788028951257314e-15, mean=1263.24, stddev=32.537931364705884)>, <gaussian(amplitude=-6.403602859474957e-17, mean=1194.0, stddev=6.229305732315612)>, <gaussian(amplitude=-4.5499238707032925e-14, mean=1235.0, stddev=6.443209865502329)>, <gaussian(amplitude=-5.4220511579149e-15, mean=1258.0, stddev=6.563204867046097)>, <gaussian(amplitude=-5.404677140144831e-15, mean=1262.044, stddev=6.584303118621881)>]\n"
     ]
    }
   ],
   "source": [
    "print(model)"
   ]
  },
  {
   "cell_type": "markdown",
   "metadata": {},
   "source": [
    "<h1>Fitting</h1>\n",
    "\n",
    "So far, we have worked on having the data ingested into appropriate formats acceptable by the astropy fitting stuff.\n",
    "\n",
    "Now, to fit the multiple components in the model simultaneously, we have to build a compound model. An astropy compound model is just a combination of all the functions in the model, using as combination operators such things as additin, multiplication, and others.\n",
    "\n",
    "Example: \n",
    "\n",
    "<code>compound_model = models.PowerLaw1D(1.,1.) + models.Gaussian1D(1.,1.,1.)</code>\n",
    "\n",
    "will create an instance of a compound model with two components.\n",
    "\n",
    "We build our component model by calling a function in the fit_functions module that will just add together all the functions in the input list:"
   ]
  },
  {
   "cell_type": "code",
   "execution_count": 6,
   "metadata": {
    "collapsed": true
   },
   "outputs": [],
   "source": [
    "compound_model = fit_functions.compoundModel(model)"
   ]
  },
  {
   "cell_type": "code",
   "execution_count": 7,
   "metadata": {
    "collapsed": false
   },
   "outputs": [
    {
     "name": "stdout",
     "output_type": "stream",
     "text": [
      "Model: CompoundModel19\n",
      "Inputs: (u'x',)\n",
      "Outputs: (u'y',)\n",
      "Model set size: 1\n",
      "Parameters:\n",
      "    amplitude_0 x_0_0   alpha_0  ...    amplitude_20    mean_20    stddev_20  \n",
      "    ----------- ------ --------- ... ------------------ -------- -------------\n",
      "     5.5862e-14 1000.0 0.3819233 ... -5.40467714014e-15 1262.044 6.58430311862\n"
     ]
    }
   ],
   "source": [
    "print(compound_model)"
   ]
  },
  {
   "cell_type": "markdown",
   "metadata": {},
   "source": [
    "\n",
    "\n",
    "\n",
    "The actual fitting then is a very simple operation. \n",
    "\n",
    "First, we instantiate a fitter engine:"
   ]
  },
  {
   "cell_type": "code",
   "execution_count": 8,
   "metadata": {
    "collapsed": false
   },
   "outputs": [],
   "source": [
    "import astropy.modeling.fitting as fitting"
   ]
  },
  {
   "cell_type": "code",
   "execution_count": 9,
   "metadata": {
    "collapsed": true
   },
   "outputs": [],
   "source": [
    "fitter = fitting.LevMarLSQFitter()"
   ]
  },
  {
   "cell_type": "markdown",
   "metadata": {},
   "source": [
    "In this example, we have errors for the data points, so we can use their inverse as weights for the fit:"
   ]
  },
  {
   "cell_type": "code",
   "execution_count": 10,
   "metadata": {
    "collapsed": true
   },
   "outputs": [],
   "source": [
    "w = mask / spectrum.e.data"
   ]
  },
  {
   "cell_type": "markdown",
   "metadata": {},
   "source": [
    "And rhe fit itself is made by just calling the fitter instance with the data, weights, and some control parameters if needed:"
   ]
  },
  {
   "cell_type": "code",
   "execution_count": 11,
   "metadata": {
    "collapsed": false
   },
   "outputs": [],
   "source": [
    "fit_result = fitter(compound_model, spectrum.x.data, spectrum.y.data, weights=w, acc=1.E-6, maxiter=1000)"
   ]
  },
  {
   "cell_type": "markdown",
   "metadata": {},
   "source": [
    "The warning is something generated by astropy. Seems to be harmless in this case.\n",
    "\n",
    "And the result is another instance of a compound model, with the fitted values set into the  parameter values:"
   ]
  },
  {
   "cell_type": "code",
   "execution_count": 12,
   "metadata": {
    "collapsed": false
   },
   "outputs": [
    {
     "name": "stdout",
     "output_type": "stream",
     "text": [
      "Model: CompoundModel19\n",
      "Inputs: (u'x',)\n",
      "Outputs: (u'y',)\n",
      "Model set size: 1\n",
      "Parameters:\n",
      "    amplitude_0 x_0_0   alpha_0  ...    amplitude_20    mean_20    stddev_20  \n",
      "    ----------- ------ --------- ... ------------------ -------- -------------\n",
      "     5.5862e-14 1000.0 0.3819233 ... -5.40467714014e-15 1262.044 6.58430311862\n"
     ]
    }
   ],
   "source": [
    "print(fit_result)"
   ]
  },
  {
   "cell_type": "code",
   "execution_count": 13,
   "metadata": {
    "collapsed": true
   },
   "outputs": [],
   "source": [
    "import matplotlib.pyplot as plt"
   ]
  },
  {
   "cell_type": "code",
   "execution_count": 14,
   "metadata": {
    "collapsed": true
   },
   "outputs": [],
   "source": [
    "%matplotlib inline"
   ]
  },
  {
   "cell_type": "code",
   "execution_count": 20,
   "metadata": {
    "collapsed": false
   },
   "outputs": [
    {
     "data": {
      "text/plain": [
       "[<matplotlib.lines.Line2D at 0x1097293d0>]"
      ]
     },
     "execution_count": 20,
     "metadata": {},
     "output_type": "execute_result"
    },
    {
     "data": {
      "image/png": "[encoded data removed]",
      "text/plain": [
       "<matplotlib.figure.Figure at 0x10978b890>"
      ]
     },
     "metadata": {},
     "output_type": "display_data"
    }
   ],
   "source": [
    "plt.gcf().set_size_inches(15.,6.)\n",
    "plt.plot(spectrum.x.data, spectrum.y.data, 'b')\n",
    "plt.plot(spectrum.x.data, mask*3.E-13, 'g')"
   ]
  },
  {
   "cell_type": "code",
   "execution_count": 21,
   "metadata": {
    "collapsed": false
   },
   "outputs": [],
   "source": [
    "model_y = fit_result(spectrum.x.data)"
   ]
  },
  {
   "cell_type": "code",
   "execution_count": 22,
   "metadata": {
    "collapsed": false
   },
   "outputs": [
    {
     "data": {
      "text/plain": [
       "[<matplotlib.lines.Line2D at 0x10a4d6950>]"
      ]
     },
     "execution_count": 22,
     "metadata": {},
     "output_type": "execute_result"
    },
    {
     "data": {
      "image/png": "[encoded data removed]",
      "text/plain": [
       "<matplotlib.figure.Figure at 0x10918db90>"
      ]
     },
     "metadata": {},
     "output_type": "display_data"
    }
   ],
   "source": [
    "plt.gcf().set_size_inches(15.,6.)\n",
    "plt.plot(spectrum.x.data, model_y, 'r')"
   ]
  },
  {
   "cell_type": "code",
   "execution_count": 24,
   "metadata": {
    "collapsed": true
   },
   "outputs": [],
   "source": [
    "residuals = spectrum.y.data - model_y"
   ]
  },
  {
   "cell_type": "code",
   "execution_count": 31,
   "metadata": {
    "collapsed": false
   },
   "outputs": [
    {
     "data": {
      "text/plain": [
       "[<matplotlib.lines.Line2D at 0x10bd3d110>]"
      ]
     },
     "execution_count": 31,
     "metadata": {},
     "output_type": "execute_result"
    },
    {
     "data": {
      "image/png": "[encoded data removed]",
      "text/plain": [
       "<matplotlib.figure.Figure at 0x10bd482d0>"
      ]
     },
     "metadata": {},
     "output_type": "display_data"
    }
   ],
   "source": [
    "plt.gcf().set_size_inches(15.,6.)\n",
    "plt.plot(spectrum.x.data, residuals, 'b')\n",
    "plt.plot(spectrum.x.data, (mask-0.5)*3.E-13, 'g')"
   ]
  },
  {
   "cell_type": "code",
   "execution_count": null,
   "metadata": {
    "collapsed": true
   },
   "outputs": [],
   "source": []
  }
 ],
 "metadata": {
  "kernelspec": {
   "display_name": "Python 2",
   "language": "python",
   "name": "python2"
  },
  "language_info": {
   "codemirror_mode": {
    "name": "ipython",
    "version": 2
   },
   "file_extension": ".py",
   "mimetype": "text/x-python",
   "name": "python",
   "nbconvert_exporter": "python",
   "pygments_lexer": "ipython2",
   "version": "2.7.9"
  }
 },
 "nbformat": 4,
 "nbformat_minor": 0
}
