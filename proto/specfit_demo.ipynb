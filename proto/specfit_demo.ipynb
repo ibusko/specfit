{
 "cells": [
  {
   "cell_type": "markdown",
   "metadata": {},
   "source": [
    "# Data input\n",
    "\n",
    "Begin by importing the help functions in the 'proto' package:"
   ]
  },
  {
   "cell_type": "code",
   "execution_count": 1,
   "metadata": {
    "collapsed": true
   },
   "outputs": [],
   "source": [
    "import fit_functions"
   ]
  },
  {
   "cell_type": "markdown",
   "metadata": {},
   "source": [
    "Define data files: \n",
    " - spectrum: simple 3-column ASCII file\n",
    " - wavelength regions to be ignored by fit: simple 2-column ASCII file\n",
    " - model to be fitted: ASCII file in specfit's IRAF database format."
   ]
  },
  {
   "cell_type": "code",
   "execution_count": 2,
   "metadata": {
    "collapsed": true
   },
   "outputs": [],
   "source": [
    "datafile = \"../data/n5548/n5548_mean_g130mb4.asc\"\n",
    "regionsfile = \"../data/n5548/n5548_lyalpha_sample.dat\"\n",
    "modelfile = \"../data/n5548/sfn5548_lyalpha2\""
   ]
  },
  {
   "cell_type": "markdown",
   "metadata": {},
   "source": [
    "Read spectrum and regions files. \n",
    "\n",
    "Spectrum is returned as an object that encapsulates wavelength, flux, and error arrays. \n",
    "\n",
    "Mask is a float numpy array with 1's for good data points and 0's for ignored data points."
   ]
  },
  {
   "cell_type": "code",
   "execution_count": 3,
   "metadata": {
    "collapsed": true
   },
   "outputs": [],
   "source": [
    "spectrum, mask = fit_functions.read_file(datafile, regions=regionsfile)"
   ]
  },
  {
   "cell_type": "markdown",
   "metadata": {},
   "source": [
    "Read model:"
   ]
  },
  {
   "cell_type": "code",
   "execution_count": 4,
   "metadata": {
    "collapsed": true
   },
   "outputs": [],
   "source": [
    "model = fit_functions.read_model(modelfile)"
   ]
  },
  {
   "cell_type": "markdown",
   "metadata": {},
   "source": [
    "Model is a list of functions defined in astropy.modeling.models. "
   ]
  },
  {
   "cell_type": "code",
   "execution_count": 5,
   "metadata": {
    "collapsed": false,
    "scrolled": true
   },
   "outputs": [
    {
     "name": "stdout",
     "output_type": "stream",
     "text": [
      "[<powerlaw(amplitude=4.404877e-14, x_0=0.0791134, alpha=1.0)>, <gaussian(amplitude=2e-14, mean=1195.006, stddev=861.4926)>, <gaussian(amplitude=1.438015e-14, mean=1226.392, stddev=861.4926)>, <gaussian(amplitude=2.02e-13, mean=1236.729, stddev=255.4998)>, <gaussian(amplitude=5.474183e-13, mean=1235.996, stddev=861.4926)>, <gaussian(amplitude=2.22193e-12, mean=1235.138, stddev=3040.59)>, <gaussian(amplitude=2.951626e-12, mean=1231.589, stddev=8133.099)>, <gaussian(amplitude=1.705819e-12, mean=1237.643, stddev=18183.71)>, <gaussian(amplitude=1.217935e-14, mean=1259.753, stddev=255.4998)>, <gaussian(amplitude=1.217935e-14, mean=1263.803, stddev=255.4998)>, <gaussian(amplitude=6.219548e-15, mean=1259.533, stddev=861.4926)>, <gaussian(amplitude=6.219548e-15, mean=1263.582, stddev=861.4926)>, <gaussian(amplitude=2.029655e-13, mean=1258.659, stddev=3040.59)>, <gaussian(amplitude=2.029655e-13, mean=1262.705, stddev=3040.59)>, <gaussian(amplitude=1.203628e-13, mean=1255.042, stddev=8133.099)>, <gaussian(amplitude=1.203628e-13, mean=1259.077, stddev=8133.099)>, <gaussian(amplitude=6.808015e-14, mean=1263.24, stddev=18183.71)>, <gaussian(amplitude=-1e-15, mean=1194.0, stddev=2561.741)>, <gaussian(amplitude=-7.552975e-13, mean=1231.651, stddev=2561.741)>, <gaussian(amplitude=-5.95592e-14, mean=1253.304, stddev=2561.741)>, <gaussian(amplitude=-5.95592e-14, mean=1257.333, stddev=2561.741)>]\n"
     ]
    }
   ],
   "source": [
    "print(model)"
   ]
  },
  {
   "cell_type": "markdown",
   "metadata": {},
   "source": [
    "# Fitting\n",
    "\n",
    "So far, we have worked on having the data ingested into appropriate formats acceptable by the astropy fitting stuff.\n",
    "\n",
    "Now, to fit the multiple components in the model simultaneously, we have to build a compound model. An astropy compound model is just a combination of all the functions in the model, using as combination operators such things as additin, multiplication, and others.\n",
    "\n",
    "Example: \n",
    "\n",
    "compound_model = models.PowerLaw1D(1.,1.) + models.Gaussian1D(1.,1.,1.)\n",
    "\n",
    "will create an instance of a compound model with two components.\n",
    "\n",
    "We build our component model by calling a function in the fit_functions module that will just add together all the functions in the input list:"
   ]
  },
  {
   "cell_type": "code",
   "execution_count": 6,
   "metadata": {
    "collapsed": true
   },
   "outputs": [],
   "source": [
    "compound_model = fit_functions.compoundModel(model)"
   ]
  },
  {
   "cell_type": "code",
   "execution_count": 7,
   "metadata": {
    "collapsed": false
   },
   "outputs": [
    {
     "name": "stdout",
     "output_type": "stream",
     "text": [
      "Model: CompoundModel19\n",
      "Inputs: (u'x',)\n",
      "Outputs: (u'y',)\n",
      "Model set size: 1\n",
      "Parameters:\n",
      "    amplitude_0    x_0_0   alpha_0 amplitude_1 ... amplitude_20 mean_20  stddev_20\n",
      "    ------------ --------- ------- ----------- ... ------------ -------- ---------\n",
      "    4.404877e-14 0.0791134     1.0       2e-14 ... -5.95592e-14 1257.333  2561.741\n"
     ]
    }
   ],
   "source": [
    "print(compound_model)"
   ]
  },
  {
   "cell_type": "markdown",
   "metadata": {},
   "source": [
    "The actual fitting then is a very simple operation. \n",
    "\n",
    "First, we instantiate a fitter engine:"
   ]
  },
  {
   "cell_type": "code",
   "execution_count": 10,
   "metadata": {
    "collapsed": false
   },
   "outputs": [],
   "source": [
    "import astropy.modeling.fitting as fitting"
   ]
  },
  {
   "cell_type": "code",
   "execution_count": 11,
   "metadata": {
    "collapsed": true
   },
   "outputs": [],
   "source": [
    "fitter = fitting.LevMarLSQFitter()"
   ]
  },
  {
   "cell_type": "markdown",
   "metadata": {},
   "source": [
    "In this example, we have errors for the data points, so we can use their inverse as weights for the fit:"
   ]
  },
  {
   "cell_type": "code",
   "execution_count": 12,
   "metadata": {
    "collapsed": true
   },
   "outputs": [],
   "source": [
    "w = mask / spectrum.e.data"
   ]
  },
  {
   "cell_type": "markdown",
   "metadata": {},
   "source": [
    "And rhe fit itself is made by just calling the fitter instance with the data, weights, and some control parameters if needed:"
   ]
  },
  {
   "cell_type": "code",
   "execution_count": 13,
   "metadata": {
    "collapsed": false
   },
   "outputs": [
    {
     "name": "stderr",
     "output_type": "stream",
     "text": [
      "/Users/busko/Projects/software/miniconda/lib/python2.7/site-packages/astropy/modeling/powerlaws.py:54: RuntimeWarning: invalid value encountered in power\n",
      "  return amplitude * xx ** (-alpha)\n"
     ]
    }
   ],
   "source": [
    "fit_result = fitter(compound_model, spectrum.x.data, spectrum.y.data, weights=w, acc=1.E-6, maxiter=1000)"
   ]
  },
  {
   "cell_type": "markdown",
   "metadata": {},
   "source": [
    "The warning is something generated by astropy. Seems to be harmless in this case.\n",
    "\n",
    "And the result is another instance of a compound model, with the fitted values set into the  parameter values:"
   ]
  },
  {
   "cell_type": "code",
   "execution_count": 14,
   "metadata": {
    "collapsed": false
   },
   "outputs": [
    {
     "name": "stdout",
     "output_type": "stream",
     "text": [
      "Model: CompoundModel19\n",
      "Inputs: (u'x',)\n",
      "Outputs: (u'y',)\n",
      "Model set size: 1\n",
      "Parameters:\n",
      "       amplitude_0          x_0_0       ...    mean_20      stddev_20  \n",
      "    ----------------- ----------------- ... ------------- -------------\n",
      "    6.52014513446e-16 0.000125557528662 ... 1249.30276325 3014.06024088\n"
     ]
    }
   ],
   "source": [
    "print(fit_result)"
   ]
  },
  {
   "cell_type": "code",
   "execution_count": null,
   "metadata": {
    "collapsed": true
   },
   "outputs": [],
   "source": []
  }
 ],
 "metadata": {
  "kernelspec": {
   "display_name": "Python 2",
   "language": "python",
   "name": "python2"
  },
  "language_info": {
   "codemirror_mode": {
    "name": "ipython",
    "version": 2
   },
   "file_extension": ".py",
   "mimetype": "text/x-python",
   "name": "python",
   "nbconvert_exporter": "python",
   "pygments_lexer": "ipython2",
   "version": "2.7.9"
  }
 },
 "nbformat": 4,
 "nbformat_minor": 0
}
