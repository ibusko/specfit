{
 "cells": [
  {
   "cell_type": "markdown",
   "metadata": {},
   "source": [
    "<h1>Environment</h1>\n",
    "\n",
    "Verify that we have the correct version of astropy:"
   ]
  },
  {
   "cell_type": "code",
   "execution_count": 1,
   "metadata": {},
   "outputs": [
    {
     "name": "stdout",
     "output_type": "stream",
     "text": [
      "3.2.1\n"
     ]
    }
   ],
   "source": [
    "import astropy\n",
    "print(astropy.__version__)"
   ]
  },
  {
   "cell_type": "code",
   "execution_count": 2,
   "metadata": {},
   "outputs": [],
   "source": [
    "import numpy as np\n",
    "import matplotlib.pyplot as plt\n",
    "%matplotlib inline"
   ]
  },
  {
   "cell_type": "markdown",
   "metadata": {},
   "source": [
    "<h1>Data input</h1>\n",
    "\n",
    "Begin by importing the helper functions in the 'proto' package:"
   ]
  },
  {
   "cell_type": "code",
   "execution_count": 3,
   "metadata": {},
   "outputs": [],
   "source": [
    "import fit_functions_specutils\n",
    "from specutils import Spectrum1D, SpectralRegion"
   ]
  },
  {
   "cell_type": "markdown",
   "metadata": {},
   "source": [
    "Define data files: \n",
    " - spectrum: simple 3-column ASCII file\n",
    " - wavelength regions to be included in fit: simple 2-column ASCII file"
   ]
  },
  {
   "cell_type": "code",
   "execution_count": 4,
   "metadata": {},
   "outputs": [],
   "source": [
    "datafile = \"../../data/n5548/n5548_mean_g130mb4.asc\"\n",
    "regionsfile = \"../../data/n5548/n5548_lyalpha_sample.dat\""
   ]
  },
  {
   "cell_type": "markdown",
   "metadata": {},
   "source": [
    "The read_file function reads the spectrum file and an optional regions file. \n",
    "\n",
    "Spectrum is returned as an object that encapsulates wavelength, flux, and error arrays. \n",
    "\n",
    "Regions is a list of SpectralRegion instances, one per region in the regions file.\n",
    "\n",
    "Mask is a float numpy array with 1's for good data points and 0's for ignored data points. This can be used directly in the fitting engine as a weight array."
   ]
  },
  {
   "cell_type": "code",
   "execution_count": 5,
   "metadata": {
    "scrolled": false
   },
   "outputs": [],
   "source": [
    "spectrum, regions, mask = fit_functions_specutils.read_file(datafile, regions=regionsfile)"
   ]
  },
  {
   "cell_type": "code",
   "execution_count": 6,
   "metadata": {},
   "outputs": [
    {
     "data": {
      "text/plain": [
       "[<matplotlib.lines.Line2D at 0xb27933590>]"
      ]
     },
     "execution_count": 6,
     "metadata": {},
     "output_type": "execute_result"
    },
    {
     "data": {
      "image/png": "[encoded data removed]",
      "text/plain": [
       "<Figure size 1080x432 with 1 Axes>"
      ]
     },
     "metadata": {
      "needs_background": "light"
     },
     "output_type": "display_data"
    }
   ],
   "source": [
    "plt.gcf().set_size_inches(15.,6.)\n",
    "plt.plot(spectrum.spectral_axis.data, spectrum.flux.data, 'b')\n",
    "plt.plot(spectrum.spectral_axis.data, mask*3.E-13, 'g')"
   ]
  },
  {
   "cell_type": "markdown",
   "metadata": {},
   "source": [
    "<h1>First guess model</h1>\n",
    "\n",
    "The model is imported directly:"
   ]
  },
  {
   "cell_type": "code",
   "execution_count": 7,
   "metadata": {},
   "outputs": [],
   "source": [
    "# import n5548_models as models"
   ]
  },
  {
   "cell_type": "markdown",
   "metadata": {},
   "source": [
    "The .py module defined above builds one or more instances of a special type of function defined in the astropy.modeling.models package, called a \"compound model\". \n",
    "\n",
    "A compound model is just a combination of astropy.modeling.models functions, using as combination operators such things as addition, multiplication, and others.\n",
    "\n",
    "Example: \n",
    "\n",
    "<code>compound_model = models.PowerLaw1D(1.,1.) + models.Gaussian1D(1.,1.,1.)</code>\n",
    "\n",
    "will create an instance of a compound model with two components.\n",
    "\n",
    "An actual, importable model definition will look like this:"
   ]
  },
  {
   "cell_type": "markdown",
   "metadata": {},
   "source": [
    "```python\n",
    "from custom_models import gaussian, powerlaw, ccmext\n",
    "\n",
    "model1 = \\\n",
    "    powerlaw(name = 'powerlaw1',\n",
    "             amp =   6.586200E-14,\n",
    "             x_0 =   1000.0,\n",
    "             alpha = 0.4819233,\n",
    "             bounds = {'amp':   (0., 1.00E-11),\n",
    "                       'x_0':   (0., 1.00E-11),\n",
    "                       'alpha': (-5., 5.)},\n",
    "             fixed = {'x_0': True}\n",
    "             ) \\\n",
    "+ \\\n",
    "    gaussian(name = 'C III 1176',\n",
    "             norm = 2.000000E-14,\n",
    "             mean = 1195.006,\n",
    "             fwhm = 861.4926,\n",
    "             bounds = {'norm': (0., 1.00E-10),\n",
    "                       'mean': (1000., 2000.),\n",
    "                       'fwhm': (1000., 2000.),\n",
    "                       'skew': (1., 1.)},\n",
    "             fixed = {'norm': True,\n",
    "                      'mean': True,\n",
    "                      'fwhm': True,\n",
    "                      'skew': True},\n",
    "             ) \\\n",
    "```             \n"
   ]
  },
  {
   "cell_type": "markdown",
   "metadata": {},
   "source": [
    "For this exercise, we pick the model named 'model1':"
   ]
  },
  {
   "cell_type": "code",
   "execution_count": 8,
   "metadata": {
    "scrolled": false
   },
   "outputs": [],
   "source": [
    "# compound_model = models.model1"
   ]
  },
  {
   "cell_type": "markdown",
   "metadata": {},
   "source": [
    "The module uses some special function types, defined by overriding the standard functions in asytropy.modeling.models in module custom_models. \n",
    "\n",
    "This overriding is necessary because the spectral components in specfit do not conform with the standards defined in astropy.modeling.models. For example, a Gaussian in specfit is defined by an amplitude, a central wavelength, a FWHM in km/s, and a skweness parameter. In astropy.modeling.models a Gaussian is defined by an amplitude, a central wavelength, and a width in units consistent with the units of the central wavelength. And no skewness parameter. These incompatibilities are addressed by the sub-classes defined in the fit_functions module. "
   ]
  },
  {
   "cell_type": "code",
   "execution_count": 9,
   "metadata": {},
   "outputs": [],
   "source": [
    "# print(compound_model)"
   ]
  },
  {
   "cell_type": "code",
   "execution_count": 10,
   "metadata": {},
   "outputs": [],
   "source": [
    "# plt.gcf().set_size_inches(15.,6.)\n",
    "# plt.plot(spectrum.x.data, compound_model(spectrum.x.data), 'r')"
   ]
  },
  {
   "cell_type": "markdown",
   "metadata": {},
   "source": [
    "<h1>Fitting</h1>\n",
    "\n",
    "So far, we have worked on having the data ingested into appropriate formats acceptable by the astropy fitting stuff.\n",
    "\n",
    "The actual fitting then is a very simple operation. First, we instantiate a fitter engine:"
   ]
  },
  {
   "cell_type": "code",
   "execution_count": 11,
   "metadata": {},
   "outputs": [],
   "source": [
    "# import astropy.modeling.fitting as fitting"
   ]
  },
  {
   "cell_type": "code",
   "execution_count": 12,
   "metadata": {},
   "outputs": [],
   "source": [
    "# fitter = fitting.LevMarLSQFitter()"
   ]
  },
  {
   "cell_type": "markdown",
   "metadata": {},
   "source": [
    "In this example, we have access to the errors for the data points, so we can use their inverse as weights for the fit:"
   ]
  },
  {
   "cell_type": "code",
   "execution_count": 13,
   "metadata": {},
   "outputs": [],
   "source": [
    "# import numpy as np\n",
    "# w = mask.copy()\n",
    "# w /= spectrum.e.data\n",
    "# max_w = np.max(w)\n",
    "# w /= max_w"
   ]
  },
  {
   "cell_type": "markdown",
   "metadata": {},
   "source": [
    "And the fit itself is made by just calling the fitter instance with the data, weights, and some control parameters if needed. Let's do some timing as well:"
   ]
  },
  {
   "cell_type": "code",
   "execution_count": 14,
   "metadata": {},
   "outputs": [],
   "source": [
    "# import time\n",
    "# start_time = time.time()\n",
    "\n",
    "# fit_result = fitter(compound_model, spectrum.x.data, spectrum.y.data, weights=w, acc=1.E-30, maxiter=6000)\n",
    "\n",
    "# end_time = time.time()\n",
    "\n",
    "# print(end_time - start_time)"
   ]
  },
  {
   "cell_type": "code",
   "execution_count": 15,
   "metadata": {},
   "outputs": [],
   "source": [
    "# print(fitter.fit_info['message'])"
   ]
  },
  {
   "cell_type": "markdown",
   "metadata": {},
   "source": [
    "The result is another instance of a compound model, with the fitted values set into the  parameter values:"
   ]
  },
  {
   "cell_type": "code",
   "execution_count": 16,
   "metadata": {},
   "outputs": [],
   "source": [
    "# print(fit_result)"
   ]
  },
  {
   "cell_type": "markdown",
   "metadata": {},
   "source": [
    "Lets print some derived results:"
   ]
  },
  {
   "cell_type": "markdown",
   "metadata": {},
   "source": [
    "Chi-sq computation: number of free parameters is the total number of parameters, minus the number of fixed and tied parameters:"
   ]
  },
  {
   "cell_type": "code",
   "execution_count": 17,
   "metadata": {},
   "outputs": [],
   "source": [
    "# if 'fixed' in fit_result.parameter_constraints:\n",
    "#     fix = np.asarray(fit_result.fixed.values())\n",
    "#     n_fixed_parameters = np.sum(np.where(fix, 1, 0))\n",
    "# else:\n",
    "#     n_fixed_parameters = 0\n",
    "\n",
    "# if 'tied' in fit_result.parameter_constraints:\n",
    "#     tie = np.asarray(fit_result.tied.values())\n",
    "#     n_tied_parameters = np.sum(np.where(tie, 1, 0))\n",
    "# else:\n",
    "#     n_tied_parameters = 0\n",
    "\n",
    "# n_free_par = len(fit_result.parameters) - n_fixed_parameters - n_tied_parameters\n",
    "\n",
    "# chisq_in = fit_functions.chisq(spectrum.x.data, spectrum.y.data, spectrum.e.data, mask, compound_model, n_free_par)\n",
    "# chisq_out = fit_functions.chisq(spectrum.x.data, spectrum.y.data, spectrum.e.data, mask, fit_result, n_free_par)\n",
    "# print(\"chisq from input model:  %f\" % chisq_in)\n",
    "# print(\"chisq from output model: %f\" % chisq_out)\n",
    "# print(\"Total data points: %d\" % len(spectrum.x.data))\n",
    "# print(\"Data points in wavelength ranges: %d\" % np.sum(mask))\n",
    "# print(\"Number of free parameters: %d\" % n_free_par)\n",
    "# print(\"Number of iterations: %d\" % fitter.fit_info['nfev'])\n",
    "# print (\"Fit engine took %d elapsed seconds.\" % (end_time - start_time))"
   ]
  },
  {
   "cell_type": "markdown",
   "metadata": {},
   "source": [
    "Errors associated with each free parameter:"
   ]
  },
  {
   "cell_type": "code",
   "execution_count": 18,
   "metadata": {},
   "outputs": [],
   "source": [
    "# cov = fitter.fit_info['param_cov']\n",
    "\n",
    "# param_errors = {}\n",
    "# i = 0\n",
    "# if cov is not None:\n",
    "#     # extract variances from covariance matrix\n",
    "#     fit_errors = {}\n",
    "#     for param_name in fit_result.param_names:\n",
    "#         fixed = fit_result.fixed[param_name]\n",
    "#         tied = fit_result.tied[param_name]\n",
    "#         if not fixed and not tied:\n",
    "#             fit_errors[param_name] = math.sqrt(cov[i,i])\n",
    "#             i += 1\n",
    "            \n",
    "#     # map errors to input model's components and parameters.\n",
    "#     for param_name in fit_errors.keys():\n",
    "#         index, target_param_name = fit_result._param_map[param_name]\n",
    "#         component_name = fit_result._submodels_names[index]\n",
    "#         param_errors[(component_name, target_param_name)] = fit_errors[param_name]\n",
    "\n",
    "# print(param_errors)"
   ]
  },
  {
   "cell_type": "markdown",
   "metadata": {},
   "source": [
    "<h1>Plots</h1>"
   ]
  },
  {
   "cell_type": "markdown",
   "metadata": {},
   "source": [
    "<h3>Input and output compound models</h3>"
   ]
  },
  {
   "cell_type": "code",
   "execution_count": 19,
   "metadata": {},
   "outputs": [],
   "source": [
    "# plt.gcf().set_size_inches(15.,6.)\n",
    "# plt.plot(spectrum.x.data, compound_model(spectrum.x.data), 'r')\n",
    "# fitted_spectrum = fit_result(spectrum.x.data)\n",
    "# plt.plot(spectrum.x.data, fitted_spectrum, 'g')"
   ]
  },
  {
   "cell_type": "markdown",
   "metadata": {},
   "source": [
    "<h3>Input compound model overploted on spectrum</h3>"
   ]
  },
  {
   "cell_type": "code",
   "execution_count": 20,
   "metadata": {},
   "outputs": [],
   "source": [
    "# plt.gcf().set_size_inches(15.,6.)\n",
    "# plt.ylim(0., 6.e-13)\n",
    "# plt.plot(spectrum.x.data, spectrum.y.data, 'b')\n",
    "# plt.plot(spectrum.x.data, compound_model(spectrum.x.data), 'r')\n",
    "# plt.plot(spectrum.x.data, mask*8.E-14, 'g')"
   ]
  },
  {
   "cell_type": "markdown",
   "metadata": {},
   "source": [
    "<h3>Fit result overploted on input spectrum</h3>"
   ]
  },
  {
   "cell_type": "code",
   "execution_count": 21,
   "metadata": {},
   "outputs": [],
   "source": [
    "# plt.gcf().set_size_inches(15.,6.)\n",
    "# plt.ylim(0., 6.e-13)\n",
    "# plt.plot(spectrum.x.data, spectrum.y.data, 'b')\n",
    "# plt.plot(spectrum.x.data, fitted_spectrum, 'r')\n",
    "# plt.plot(spectrum.x.data, mask*8.E-14, 'g')"
   ]
  },
  {
   "cell_type": "markdown",
   "metadata": {},
   "source": [
    "<h3>Residuals</h3>\n",
    "\n",
    "input spectrum - input model: plotted in yellow\n",
    "\n",
    "input spectrum - fitted model: plotted in blue"
   ]
  },
  {
   "cell_type": "code",
   "execution_count": 22,
   "metadata": {},
   "outputs": [],
   "source": [
    "# residuals = spectrum.y.data - fitted_spectrum\n",
    "# original_residuals = spectrum.y.data - compound_model(spectrum.x.data)"
   ]
  },
  {
   "cell_type": "code",
   "execution_count": 23,
   "metadata": {},
   "outputs": [],
   "source": [
    "# plt.gcf().set_size_inches(15.,6.)\n",
    "# plt.ylim(-2.e-13, 2.e-13)\n",
    "# plt.plot([1100., 1400], [0., 0.], 'r')\n",
    "# plt.plot(spectrum.x.data, residuals, 'b')\n",
    "# plt.plot(spectrum.x.data, original_residuals, 'y')\n",
    "# plt.plot(spectrum.x.data, (mask-0.5)*7.E-14, 'g')"
   ]
  },
  {
   "cell_type": "markdown",
   "metadata": {},
   "source": [
    "<h3>Detail of residuals plot</h3>"
   ]
  },
  {
   "cell_type": "code",
   "execution_count": 24,
   "metadata": {
    "scrolled": true
   },
   "outputs": [],
   "source": [
    "# plt.gcf().set_size_inches(15.,5.)\n",
    "# plt.xlim(1185., 1270.)\n",
    "# plt.ylim(-2.e-13, 0.7e-13)\n",
    "# plt.plot([1185., 1270], [0., 0.], 'r')\n",
    "# plt.plot(spectrum.x.data, residuals, 'b')\n",
    "# plt.plot(spectrum.x.data, original_residuals, 'y')\n",
    "# plt.plot(spectrum.x.data, (mask-0.5)*5.E-14, 'g')"
   ]
  },
  {
   "cell_type": "code",
   "execution_count": null,
   "metadata": {},
   "outputs": [],
   "source": []
  }
 ],
 "metadata": {
  "celltoolbar": "Raw Cell Format",
  "kernelspec": {
   "display_name": "Python 3",
   "language": "python",
   "name": "python3"
  },
  "language_info": {
   "codemirror_mode": {
    "name": "ipython",
    "version": 3
   },
   "file_extension": ".py",
   "mimetype": "text/x-python",
   "name": "python",
   "nbconvert_exporter": "python",
   "pygments_lexer": "ipython3",
   "version": "3.7.4"
  }
 },
 "nbformat": 4,
 "nbformat_minor": 1
}
