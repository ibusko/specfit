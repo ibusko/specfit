{
 "cells": [
  {
   "cell_type": "code",
   "execution_count": 1,
   "metadata": {},
   "outputs": [
    {
     "name": "stderr",
     "output_type": "stream",
     "text": [
      "/Users/busko/Projects/miniconda3/envs/specut/lib/python3.7/site-packages/astropy/modeling/powerlaws.py:53: RuntimeWarning: divide by zero encountered in power\n",
      "  return amplitude * xx ** (-alpha)\n",
      "/Users/busko/Projects/miniconda3/envs/specut/lib/python3.7/site-packages/astropy/modeling/powerlaws.py:61: RuntimeWarning: divide by zero encountered in power\n",
      "  d_amplitude = xx ** (-alpha)\n",
      "/Users/busko/Projects/miniconda3/envs/specut/lib/python3.7/site-packages/astropy/modeling/powerlaws.py:63: RuntimeWarning: divide by zero encountered in log\n",
      "  d_alpha = -amplitude * d_amplitude * np.log(xx)\n"
     ]
    },
    {
     "data": {
      "image/png": "[encoded data removed]",
      "text/plain": [
       "<Figure size 432x288 with 1 Axes>"
      ]
     },
     "metadata": {
      "needs_background": "light"
     },
     "output_type": "display_data"
    }
   ],
   "source": [
    "# Proof-of concept.\n",
    "#\n",
    "# We cannot use Kriss' example directly. Line fitting in specutils \n",
    "# does not support bounds and ties, which are included in the \n",
    "# original model. Also, Kriss' model depends on some custom-\n",
    "# defined model components such as ccm reddening and \"bipolar\"\n",
    "# gaussian.\n",
    "#\n",
    "# For demo purposes, we can remove those custom componentsd and\n",
    "# rewrite the model-defining module. \n",
    "\n",
    "import numpy as np\n",
    "import matplotlib.pyplot as plt\n",
    "%matplotlib inline\n",
    "\n",
    "from astropy.modeling import models\n",
    "from astropy import units as u\n",
    "\n",
    "from specutils.spectra import Spectrum1D\n",
    "from specutils.fitting import fit_lines\n",
    "\n",
    "# Create a simple spectrum with a Gaussian.\n",
    "np.random.seed(0)\n",
    "x = np.linspace(0., 10., 200)\n",
    "y = 3 * np.exp(-0.5 * (x- 6.3)**2 / 0.8**2)\n",
    "y += np.random.normal(0., 0.2, x.shape)\n",
    "spectrum = Spectrum1D(flux=y*u.Jy, spectral_axis=x*u.um)\n",
    "\n",
    "\n",
    "# from custom_models import gaussian, powerlaw, ccmext\n",
    "\n",
    "# model1 = \\\n",
    "#     powerlaw(name = 'powerlaw1',\n",
    "#              amplitude =   6.586200E-14,\n",
    "#              x_0 =   1000.0,\n",
    "#              alpha = 0.4819233,\n",
    "#              bounds = {'amp':   (0., 1.00E-11),\n",
    "#                        'x_0':   (0., 1.00E-11),\n",
    "#                        'alpha': (-5., 5.)},\n",
    "#              fixed = {'x_0': True}\n",
    "#              ) \\\n",
    "# + \\\n",
    "#     gaussian(name = 'C III 1176',\n",
    "#              norm = 2.000000E-14,\n",
    "#              mean = 1195.006,\n",
    "#              fwhm = 861.4926,\n",
    "#              bounds = {'norm': (0., 1.00E-10),\n",
    "#                        'mean': (1000., 2000.),\n",
    "#                        'fwhm': (1000., 2000.),\n",
    "#                        'skew': (1., 1.)},\n",
    "#              fixed = {'norm': True,\n",
    "#                       'mean': True,\n",
    "#                       'fwhm': True,\n",
    "#                       'skew': True},\n",
    "#              ) \\\n",
    "\n",
    "import astropy.modeling.models as models\n",
    "model1 = models.PowerLaw1D(amplitude=6.,x_0=5.0,alpha = 0.4819233)\n",
    "\n",
    "# Fit the spectrum and calculate the fitted flux values (``y_fit``)\n",
    "g_init = models.Gaussian1D(amplitude=3.*u.Jy, mean=6.1*u.um, stddev=1.*u.um)\n",
    "g_fit = fit_lines(spectrum, model1)\n",
    "y_fit = g_fit(x*u.um)\n",
    "\n",
    "# Plot the original spectrum and the fitted.\n",
    "plt.plot(x, y)\n",
    "plt.plot(x, y_fit)\n",
    "# plt.title('Single fit peak')\n",
    "plt.grid(True)\n",
    "# plt.legend('Original Spectrum', 'Specutils Fit Result')"
   ]
  },
  {
   "cell_type": "code",
   "execution_count": null,
   "metadata": {},
   "outputs": [],
   "source": []
  }
 ],
 "metadata": {
  "kernelspec": {
   "display_name": "Python 3",
   "language": "python",
   "name": "python3"
  },
  "language_info": {
   "codemirror_mode": {
    "name": "ipython",
    "version": 3
   },
   "file_extension": ".py",
   "mimetype": "text/x-python",
   "name": "python",
   "nbconvert_exporter": "python",
   "pygments_lexer": "ipython3",
   "version": "3.7.3"
  }
 },
 "nbformat": 4,
 "nbformat_minor": 2
}
